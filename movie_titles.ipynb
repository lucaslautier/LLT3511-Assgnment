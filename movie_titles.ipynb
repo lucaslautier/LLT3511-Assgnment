{
 "cells": [
  {
   "cell_type": "code",
   "execution_count": 37,
   "id": "9c304f50",
   "metadata": {},
   "outputs": [],
   "source": [
    "# Suggested imports. Do not use import any modules that are not in the requirements.txt file on the VLE.\n",
    "\n",
    "%matplotlib inline\n",
    "\n",
    "import numpy as np\n",
    "import pandas as pd\n",
    "import torch\n",
    "import collections\n",
    "import random\n",
    "import matplotlib.pyplot as plt\n",
    "import sklearn.model_selection\n",
    "import sklearn.metrics\n",
    "\n",
    "device = 'cuda:0' if torch.cuda.is_available() else 'cpu'"
   ]
  },
  {
   "cell_type": "markdown",
   "id": "fc98e8ff",
   "metadata": {},
   "source": [
    "# Movie titles assignment\n",
    "\n",
    "Table of contents:\n",
    "\n",
    "* [Data filtering and splitting (10%)](#Data-filtering-and-splitting-(10%))\n",
    "* [Title classification (25%)](#Title-classification-(25%))\n",
    "* [Title generation (25%)](#Title-generation-(25%))\n",
    "* [Language models as classifiers (30%)](#Language-models-as-classifiers-(30%))\n",
    "* [Conclusion (10%)](#Conclusion-(10%))\n",
    "\n",
    "Information:\n",
    "\n",
    "This assignment is 100% of your assessment.\n",
    "You are to follow the instructions below and fill each cell as instructed.\n",
    "Once ready, submit this notebook on VLE with all the outputs included (run all your code and don't clear any output cells).\n",
    "Do not submit anything else apart from the notebook and do not use any extra data apart from what is requested."
   ]
  },
  {
   "cell_type": "markdown",
   "id": "98ab5373",
   "metadata": {},
   "source": [
    "## Introduction\n",
    "\n",
    "A big shot Hollywood producer is looking for a way to automatically generate new movie titles for future movies and you have been employed to do this (in exchange for millions of dollars!).\n",
    "A data set of movie details has already been collected from IMDb for you and your task is to create the model and the algorithms necessary to use it."
   ]
  },
  {
   "cell_type": "markdown",
   "id": "80bb2f45",
   "metadata": {},
   "source": [
    "## Data filtering and splitting (10%)\n",
    "\n",
    "Start by downloading the CSV file `filmtv_movies - ENG.csv` from [this kaggle data set](https://www.kaggle.com/datasets/stefanoleone992/filmtv-movies-dataset).\n",
    "\n",
    "The CSV file needs to be filtered as the producer is only interested in certain types of movie titles.\n",
    "Load the file and filter it so that only movies with the following criteria are kept:\n",
    "\n",
    "* The country needs to be `United States` (and no other country should be mentioned).\n",
    "* The genre should be `Action`, `Horror`, `Fantasy`, `Western`, and `Adventure`.\n",
    "* The title should not have more than 20 characters."
   ]
  },
  {
   "cell_type": "code",
   "execution_count": 38,
   "id": "1c2a2e96",
   "metadata": {},
   "outputs": [],
   "source": [
    "df = pd.read_csv('filmtv_movies - ENG.csv')\n",
    "\n",
    "# Filtering\n",
    "# Country\n",
    "df = df[df['country'] == 'United States']  \n",
    "\n",
    "# Genre\n",
    "genre_list = ['Action', 'Horror', 'Fantasy', 'Western', 'Adventure']\n",
    "df = df[df['genre'].isin(genre_list)]\n",
    "\n",
    "# Title Length\n",
    "df = df[df['title'].str.len() <= 20]\n",
    "\n",
    "df.to_csv('testFilter.csv') # testing if filter worked"
   ]
  },
  {
   "cell_type": "markdown",
   "id": "448acbaa",
   "metadata": {},
   "source": [
    "Split the filtered data into 80% train, 10% validation, and 10% test.\n",
    "You will only need the title and genre columns."
   ]
  },
  {
   "cell_type": "code",
   "execution_count": 39,
   "id": "ec1fca47",
   "metadata": {},
   "outputs": [],
   "source": [
    "from sklearn.model_selection import train_test_split\n",
    "# splitting data : training data (80%) / validation + testing (20%)\n",
    "train, rem = train_test_split(df, train_size = 0.8)\n",
    "\n",
    "# split the remaining 20% in half: validation (10%) / testing (10%)\n",
    "valid, test = train_test_split(rem, train_size = 0.5)\n",
    "\n",
    "# Test to see if percentages were split correcrtly\n",
    "# train.to_csv('trainT.csv') \n",
    "# valid.to_csv('validT.csv') \n",
    "# test.to_csv('testT.csv') "
   ]
  },
  {
   "cell_type": "markdown",
   "id": "304d5332",
   "metadata": {},
   "source": [
    "From your processed data set, display:\n",
    "\n",
    "* the amount of movies in each genre and split\n",
    "* 5 examples of movie titles from each genre and split"
   ]
  },
  {
   "cell_type": "code",
   "execution_count": 40,
   "id": "c5e8adf7",
   "metadata": {},
   "outputs": [
    {
     "name": "stdout",
     "output_type": "stream",
     "text": [
      "QUESTION 1 - Amount of Movies in each genre: \n",
      "                  Action  Horror  Fantasy  Western  Adventure\n",
      "Training Split       702     660      439      430        368\n",
      "Validation Split      91      73       57       56         48\n",
      "Testing Split         95      85       46       51         48\n",
      "\n",
      " QUESTION 2 - 5 Examples of Movie titles from each genre:\n",
      "\n",
      "TRAINING SPLIT\n",
      "                          Mov1            Mov2                Mov3  \\\n",
      "Action       Independents' Day    Rough Riders           Black Dog   \n",
      "Horror     The Gore Gore Girls          Carrie           Aftermath   \n",
      "Fantasy                Hellboy   The Last Push  Killers from Space   \n",
      "Western          Heaven's Gate       True Grit              Smith!   \n",
      "Adventure    Missing in Action  Fort Vengeance             Hatari!   \n",
      "\n",
      "                    Mov4               Mov5  \n",
      "Action          Sniper 2            Misfire  \n",
      "Horror           Blacula         Synchronic  \n",
      "Fantasy     Flying Virus        I Am Legend  \n",
      "Western      Crazy Horse  The Bounty Killer  \n",
      "Adventure  Second Chance       The Next Man  \n",
      "\n",
      "\n",
      "\n",
      "VALIDATION SPLIT\n",
      "                     Mov1               Mov2                Mov3  \\\n",
      "Action        Johnny Dark         Blind Fury      Living & Dying   \n",
      "Horror       Leprechaun 2         The Unholy        The Exorcist   \n",
      "Fantasy            Meteor             Kronos  The Time Travelers   \n",
      "Western            Santee  The Good Old Boys  Dirty Little Billy   \n",
      "Adventure  Five Come Back         Minutemen        The Iron Mask   \n",
      "\n",
      "                           Mov4                 Mov5  \n",
      "Action                Desperado  The Hurricane Heist  \n",
      "Horror                     Stay  Bats: Human Harvest  \n",
      "Fantasy     Panic in Year Zero!          Solarbabies  \n",
      "Western     Friendly Persuasion  A Man Called Gannon  \n",
      "Adventure  Gold of Seven Saints      Flesh and Blood  \n",
      "\n",
      "\n",
      "\n",
      "TESTING SPLIT\n",
      "                          Mov1               Mov2          Mov3  \\\n",
      "Action     Path of Destruction  Bermuda Tentacles     Shockwave   \n",
      "Horror      Carnival of Souls            Madhouse       Mimic 2   \n",
      "Fantasy                   2010     Silent Running     Robot Jox   \n",
      "Western         The Unforgiven          Westbound    Open Range   \n",
      "Adventure               Watusi   Huckleberry Finn  The Sea Wolf   \n",
      "\n",
      "                      Mov4                Mov5  \n",
      "Action              VANish         Van Helsing  \n",
      "Horror          Witchboard  Island of the Dead  \n",
      "Fantasy         Odd Thomas     Mission to Mars  \n",
      "Western    The Comancheros   Yellowstone Kelly  \n",
      "Adventure     Dark Avenger         Underwater!  \n"
     ]
    }
   ],
   "source": [
    "def countMoviesByGenre(df):\n",
    "    action = len(df[df.genre.str.contains('Action')])\n",
    "    horror = len(df[df.genre.str.contains('Horror')])\n",
    "    fantasy = len(df[df.genre.str.contains('Fantasy')])\n",
    "    western = len(df[df.genre.str.contains('Western')])\n",
    "    adventure = len(df[df.genre.str.contains('Adventure')])\n",
    "\n",
    "    return [action, horror, fantasy, western, adventure]\n",
    "\n",
    "\n",
    "def examplesByGenre(df):\n",
    "    \n",
    "\n",
    "    # Creating lists that will store movie examples\n",
    "    actionList, horrorList, fantasyList, westernList, adventureList = ([] for i in range(5))\n",
    "   \n",
    "    # Getting action movie examples\n",
    "    actionM= df[df['genre'] == 'Action']\n",
    "    rand_actionM = actionM['title'].sample(n=5)\n",
    "\n",
    "    for i in rand_actionM: \n",
    "        actionList.append(i)\n",
    "              \n",
    "    # df_length = len(ex_df)\n",
    "    # ex_df.loc[df_length] = list\n",
    "\n",
    "    \n",
    "    \n",
    "\n",
    "    # Getting horror movie examples\n",
    "    \n",
    "    horrorM = df[df['genre'] == 'Horror'] \n",
    "    rand_horrorM = horrorM['title'].sample(n=5)\n",
    "    for i in rand_horrorM: \n",
    "        horrorList.append(i)\n",
    "    \n",
    "    \n",
    "\n",
    "    # Getting and outputting fantasy movie examples\n",
    "    fantasyM = df[df['genre'] == 'Fantasy']\n",
    "    rand_fantasyM = fantasyM['title'].sample(n=5)\n",
    "    for i in rand_fantasyM: \n",
    "        fantasyList.append(i)\n",
    "    \n",
    "\n",
    "    # Getting and outputting western movie examples\n",
    "    westernM = df[df['genre'] == 'Western']\n",
    "    rand_westernM = westernM['title'].sample(n=5)\n",
    "    for i in rand_westernM: \n",
    "        westernList.append(i)\n",
    "    \n",
    "\n",
    "    # Getting and outputting adventure movie examples\n",
    "    adventureM = df[df['genre'] == 'Adventure']\n",
    "    rand_adventureM = adventureM['title'].sample(n=5)\n",
    "    for i in rand_adventureM: \n",
    "        adventureList.append(i)\n",
    "    \n",
    "    return [actionList, horrorList, fantasyList, westernList, adventureList]\n",
    "    # exampleList = [rand_actionM, rand_horrorM, rand_fantasyM, rand_westernM, rand_adventureM]\n",
    "    \n",
    "\n",
    "def outputStatistics(train, valid, test):\n",
    "    # Part 1 - Amount of Movies in each genre and split\n",
    "    print(\"QUESTION 1 - Amount of Movies in each genre: \")\n",
    "    \n",
    "    # call function that calculates amount of movies per genre (called for each split). List is returned for every split\n",
    "    movieCountTrain= countMoviesByGenre(train)\n",
    "    movieCountValid = countMoviesByGenre(valid)\n",
    "    movieCountTest = countMoviesByGenre(test)\n",
    "    \n",
    "    # Lists containing the amount of movies per Genre are appended into a list of lists (used to make the dataframe)\n",
    "    stats = []\n",
    "    stats.append(movieCountTrain)\n",
    "    stats.append(movieCountValid)\n",
    "    stats.append(movieCountTest)\n",
    "\n",
    "    # Dataframe containing amount of movies in each genre and split is created and outputted\n",
    "    stats_df = pd.DataFrame(stats, columns=['Action', 'Horror', 'Fantasy', 'Western', 'Adventure'])\n",
    "    stats_df.index = ['Training Split', 'Validation Split', 'Testing Split']\n",
    "    print(stats_df)\n",
    "    \n",
    "\n",
    "\n",
    "    # Part 2 - 5 Examples of movie titles from each genre and split\n",
    "    # On VSCode dataframes don't have enough space tp fully show - in this case please choose 'open in text editor' option\n",
    "    print(\"\\n QUESTION 2 - 5 Examples of Movie titles from each genre:\")\n",
    "    print(\"\\nTRAINING SPLIT\")\n",
    "    exTrain = examplesByGenre(train)\n",
    "    exTrain_df = pd.DataFrame(exTrain, columns=['Mov1', 'Mov2', 'Mov3', 'Mov4', 'Mov5'])\n",
    "    exTrain_df.index = ['Action', 'Horror', 'Fantasy', 'Western', 'Adventure']\n",
    "    print(exTrain_df)\n",
    "    print(\"\\n\\n\")\n",
    "    \n",
    "    print(\"VALIDATION SPLIT\")\n",
    "    exValid = examplesByGenre(valid)\n",
    "    exValid_df = pd.DataFrame(exValid, columns=['Mov1', 'Mov2', 'Mov3', 'Mov4', 'Mov5'])\n",
    "    exValid_df.index = ['Action', 'Horror', 'Fantasy', 'Western', 'Adventure']\n",
    "    print(exValid_df)\n",
    "    print(\"\\n\\n\")\n",
    "\n",
    "    print(\"TESTING SPLIT\")\n",
    "    exTest = examplesByGenre(test)\n",
    "    exTest_df = pd.DataFrame(exTest, columns=['Mov1', 'Mov2', 'Mov3', 'Mov4', 'Mov5'])\n",
    "    exTest_df.index = ['Action', 'Horror', 'Fantasy', 'Western', 'Adventure']\n",
    "    print(exTest_df)\n",
    "\n",
    "\n",
    "outputStatistics(train, valid, test)\n",
    "# outputStatistics(valid)\n",
    "# outputStatistics(test)"
   ]
  },
  {
   "cell_type": "markdown",
   "id": "8c1240be",
   "metadata": {},
   "source": [
    "## Title classification (25%)\n",
    "\n",
    "Your first task is to prove that a neural network can identify the genre of a movie based on its title.\n",
    "\n",
    "You will note that many titles are just a single word or two words long so you need to work at the character level instead of the word level, that is, a token would be a single character, including punctuation marks and spaces.\n",
    "You must also lowercase the titles.\n",
    "Preprocess the data sets, create a neural network, and train it to classify the movie titles into their genre.\n",
    "Plot a graph of the **accuracy** of the model on the train and validation sets after each epoch."
   ]
  },
  {
   "cell_type": "code",
   "execution_count": null,
   "id": "d7522adb",
   "metadata": {},
   "outputs": [],
   "source": []
  },
  {
   "cell_type": "markdown",
   "id": "f53265d7",
   "metadata": {},
   "source": [
    "Measure the F1 score performance of the model when applied on the test set.\n",
    "Also plot a confusion matrix showing how often each genre is mistaken as another genre."
   ]
  },
  {
   "cell_type": "code",
   "execution_count": null,
   "id": "e3e9f69c",
   "metadata": {},
   "outputs": [],
   "source": []
  },
  {
   "cell_type": "markdown",
   "id": "885c811f",
   "metadata": {},
   "source": [
    "## Title generation (25%)\n",
    "\n",
    "Now that you've proven that titles and genre are related, make a model that can generate a title given a genre.\n",
    "\n",
    "Again, you need to generate tokens at the character level instead of the word level and the titles must be lowercased.\n",
    "Preprocess the data sets, create a neural network, and train it to generate the movie titles given their genre.\n",
    "Plot a graph of the **perplexity** of the model on the train and validation sets after each epoch."
   ]
  },
  {
   "cell_type": "code",
   "execution_count": null,
   "id": "89209908",
   "metadata": {},
   "outputs": [],
   "source": []
  },
  {
   "cell_type": "markdown",
   "id": "da86299f",
   "metadata": {},
   "source": [
    "Generate 3 titles for every genre.\n",
    "Make sure that the titles are not all the same."
   ]
  },
  {
   "cell_type": "code",
   "execution_count": null,
   "id": "f2aa6465",
   "metadata": {},
   "outputs": [],
   "source": []
  },
  {
   "cell_type": "markdown",
   "id": "cc97665b",
   "metadata": {},
   "source": [
    "## Language models as classifiers (30%)\n",
    "\n",
    "It occurs to you that the movie title generator can also be used as a classifier by doing the following:\n",
    "\n",
    "* Let title $t$ be the title that you want to classify.\n",
    "* For every genre $g$,\n",
    "    * Use the generator as a language model to get the probability of $t$ (the whole title) using genre $g$.\n",
    "* Pick the genre that makes the language model give the largest probability.\n",
    "\n",
    "The producer is thrilled to not need two separate models and now you have to implement this.\n",
    "**Use the preprocessed test set from the previous task** in order to find the genre that makes the language model give the largest probability.\n",
    "There is no need to plot anything here."
   ]
  },
  {
   "cell_type": "code",
   "execution_count": null,
   "id": "44ba8fd6",
   "metadata": {},
   "outputs": [],
   "source": []
  },
  {
   "cell_type": "markdown",
   "id": "3841496d",
   "metadata": {},
   "source": [
    "Just like in the classification task, measure the F1 score and plot the confusion matrix of this new classifier."
   ]
  },
  {
   "cell_type": "code",
   "execution_count": null,
   "id": "148060ad",
   "metadata": {},
   "outputs": [],
   "source": []
  },
  {
   "cell_type": "markdown",
   "id": "b6399514",
   "metadata": {},
   "source": [
    "Write a paragraph or psuedo code to describe what your code above does."
   ]
  },
  {
   "cell_type": "code",
   "execution_count": 41,
   "id": "f33c9a9e",
   "metadata": {},
   "outputs": [
    {
     "data": {
      "text/plain": [
       "'\\n\\n'"
      ]
     },
     "execution_count": 41,
     "metadata": {},
     "output_type": "execute_result"
    }
   ],
   "source": [
    "'''\n",
    "\n",
    "'''"
   ]
  },
  {
   "cell_type": "markdown",
   "id": "0f5888e6",
   "metadata": {},
   "source": [
    "## Conclusion (10%)\n",
    "\n",
    "The producer's funders are asking for a report about this new technology they invested in.\n",
    "In 300 words, write your interpretation of the results together with what you think could make the model perform better."
   ]
  },
  {
   "cell_type": "code",
   "execution_count": 42,
   "id": "a3b0fa26",
   "metadata": {},
   "outputs": [
    {
     "data": {
      "text/plain": [
       "'\\n\\n'"
      ]
     },
     "execution_count": 42,
     "metadata": {},
     "output_type": "execute_result"
    }
   ],
   "source": [
    "'''\n",
    "\n",
    "'''"
   ]
  }
 ],
 "metadata": {
  "kernelspec": {
   "display_name": "Python 3",
   "language": "python",
   "name": "python3"
  },
  "language_info": {
   "codemirror_mode": {
    "name": "ipython",
    "version": 3
   },
   "file_extension": ".py",
   "mimetype": "text/x-python",
   "name": "python",
   "nbconvert_exporter": "python",
   "pygments_lexer": "ipython3",
   "version": "3.10.0"
  },
  "vscode": {
   "interpreter": {
    "hash": "3bd13bc16400e16874b7ce28af58a129343287e94248a182c1f06fbb6b76ef8e"
   }
  }
 },
 "nbformat": 4,
 "nbformat_minor": 5
}
