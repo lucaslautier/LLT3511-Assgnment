{
 "cells": [
  {
   "cell_type": "code",
   "execution_count": 92,
   "id": "9c304f50",
   "metadata": {},
   "outputs": [],
   "source": [
    "# Suggested imports. Do not use import any modules that are not in the requirements.txt file on the VLE.\n",
    "\n",
    "%matplotlib inline\n",
    "\n",
    "import numpy as np\n",
    "import pandas as pd\n",
    "import torch\n",
    "import collections\n",
    "import random\n",
    "import matplotlib.pyplot as plt\n",
    "import sklearn.model_selection\n",
    "import sklearn.metrics\n",
    "\n",
    "device = 'cuda:0' if torch.cuda.is_available() else 'cpu'"
   ]
  },
  {
   "cell_type": "markdown",
   "id": "fc98e8ff",
   "metadata": {},
   "source": [
    "# Movie titles assignment\n",
    "\n",
    "Table of contents:\n",
    "\n",
    "* [Data filtering and splitting (10%)](#Data-filtering-and-splitting-(10%))\n",
    "* [Title classification (25%)](#Title-classification-(25%))\n",
    "* [Title generation (25%)](#Title-generation-(25%))\n",
    "* [Language models as classifiers (30%)](#Language-models-as-classifiers-(30%))\n",
    "* [Conclusion (10%)](#Conclusion-(10%))\n",
    "\n",
    "Information:\n",
    "\n",
    "This assignment is 100% of your assessment.\n",
    "You are to follow the instructions below and fill each cell as instructed.\n",
    "Once ready, submit this notebook on VLE with all the outputs included (run all your code and don't clear any output cells).\n",
    "Do not submit anything else apart from the notebook and do not use any extra data apart from what is requested."
   ]
  },
  {
   "cell_type": "markdown",
   "id": "98ab5373",
   "metadata": {},
   "source": [
    "## Introduction\n",
    "\n",
    "A big shot Hollywood producer is looking for a way to automatically generate new movie titles for future movies and you have been employed to do this (in exchange for millions of dollars!).\n",
    "A data set of movie details has already been collected from IMDb for you and your task is to create the model and the algorithms necessary to use it."
   ]
  },
  {
   "cell_type": "markdown",
   "id": "80bb2f45",
   "metadata": {},
   "source": [
    "## Data filtering and splitting (10%)\n",
    "\n",
    "Start by downloading the CSV file `filmtv_movies - ENG.csv` from [this kaggle data set](https://www.kaggle.com/datasets/stefanoleone992/filmtv-movies-dataset).\n",
    "\n",
    "The CSV file needs to be filtered as the producer is only interested in certain types of movie titles.\n",
    "Load the file and filter it so that only movies with the following criteria are kept:\n",
    "\n",
    "* The country needs to be `United States` (and no other country should be mentioned).\n",
    "* The genre should be `Action`, `Horror`, `Fantasy`, `Western`, and `Adventure`.\n",
    "* The title should not have more than 20 characters."
   ]
  },
  {
   "cell_type": "code",
   "execution_count": 93,
   "id": "1c2a2e96",
   "metadata": {},
   "outputs": [],
   "source": [
    "df = pd.read_csv('filmtv_movies - ENG.csv')\n",
    "\n",
    "# Filtering\n",
    "# Country\n",
    "df = df[df['country'] == 'United States']  \n",
    "\n",
    "# Genre\n",
    "genre_list = ['Action', 'Horror', 'Fantasy', 'Western', 'Adventure']\n",
    "df = df[df['genre'].isin(genre_list)]\n",
    "\n",
    "# Title Length\n",
    "df = df[df['title'].str.len() <= 20]\n",
    "\n",
    "df.to_csv('testFilter.csv') # testing if filter worked"
   ]
  },
  {
   "cell_type": "markdown",
   "id": "448acbaa",
   "metadata": {},
   "source": [
    "Split the filtered data into 80% train, 10% validation, and 10% test.\n",
    "You will only need the title and genre columns."
   ]
  },
  {
   "cell_type": "code",
   "execution_count": 94,
   "id": "ec1fca47",
   "metadata": {},
   "outputs": [],
   "source": [
    "from sklearn.model_selection import train_test_split\n",
    "# splitting data : training data (80%) / validation + testing (20%)\n",
    "train, rem = train_test_split(df, train_size = 0.8)\n",
    "\n",
    "# split the remaining 20% in half: validation (10%) / testing (10%)\n",
    "valid, test = train_test_split(rem, train_size = 0.5)\n",
    "\n",
    "# Test to see if percentages were split correcrtly\n",
    "# train.to_csv('trainT.csv') \n",
    "# valid.to_csv('validT.csv') \n",
    "# test.to_csv('testT.csv') "
   ]
  },
  {
   "cell_type": "markdown",
   "id": "304d5332",
   "metadata": {},
   "source": [
    "From your processed data set, display:\n",
    "\n",
    "* the amount of movies in each genre and split\n",
    "* 5 examples of movie titles from each genre and split"
   ]
  },
  {
   "cell_type": "code",
   "execution_count": 99,
   "id": "c5e8adf7",
   "metadata": {},
   "outputs": [
    {
     "name": "stdout",
     "output_type": "stream",
     "text": [
      "Amount of Movies in each genre: \n",
      "                  Action  Horror  Fantasy  Western  Adventure\n",
      "Training Split       702     663      423      430        381\n",
      "Validation Split      94      75       61       55         40\n",
      "Testing Split         92      80       58       52         43\n",
      "\n",
      "5 Examples of Movie titles from each genre:\n",
      "                                                             Action  \\\n",
      "Training Split    9908         Prime Cut\n",
      "6557         The Swarm\n",
      "...   \n",
      "Validation Split  21324                Sniper 3\n",
      "22968     Comman...   \n",
      "Testing Split     4332          Black Belt\n",
      "26943      Machete Ki...   \n",
      "\n",
      "                                                             Horror  \\\n",
      "Training Split    29543         Preservation\n",
      "20871              ...   \n",
      "Validation Split  14962              Possessed\n",
      "12646            ...   \n",
      "Testing Split     7925            The Manitou\n",
      "29529       Alien ...   \n",
      "\n",
      "                                                            Fantasy  \\\n",
      "Training Split    582      Beauty and the Beast\n",
      "1697            ...   \n",
      "Validation Split  15465                  Pulse\n",
      "26484            ...   \n",
      "Testing Split     7613               The Fly II\n",
      "37039           ...   \n",
      "\n",
      "                                                            Western  \\\n",
      "Training Split    29644           Horizons West\n",
      "23470    The Law...   \n",
      "Validation Split  8840              Raton Pass\n",
      "13445         Win...   \n",
      "Testing Split     36642     News of the World\n",
      "12514    The Aveng...   \n",
      "\n",
      "                                                          Adventure  \n",
      "Training Split    351                The Eagle\n",
      "4979     Valley o...  \n",
      "Validation Split  35446       A Dog's Way Home\n",
      "11895    Thunder ...  \n",
      "Testing Split     1841      My Friend Flicka\n",
      "9468            Iro...  \n"
     ]
    }
   ],
   "source": [
    "def countMoviesByGenre(df):\n",
    "    action = len(df[df.genre.str.contains('Action')])\n",
    "    horror = len(df[df.genre.str.contains('Horror')])\n",
    "    fantasy = len(df[df.genre.str.contains('Fantasy')])\n",
    "    western = len(df[df.genre.str.contains('Western')])\n",
    "    adventure = len(df[df.genre.str.contains('Adventure')])\n",
    "\n",
    "    return [action, horror, fantasy, western, adventure]\n",
    "\n",
    "\n",
    "def examplesByGenre(df):\n",
    "    actionM= df[df['genre'] == 'Action']\n",
    "    rand_actionM = actionM['title'].sample(n=5)\n",
    "\n",
    "    horrorM = df[df['genre'] == 'Horror'] \n",
    "    rand_horrorM = horrorM['title'].sample(n=5)\n",
    "\n",
    "    fantasyM = df[df['genre'] == 'Fantasy']\n",
    "    rand_fantasyM = fantasyM['title'].sample(n=5)\n",
    "\n",
    "    westernM = df[df['genre'] == 'Western']\n",
    "    rand_westernM = westernM['title'].sample(n=5)\n",
    "\n",
    "    adventureM = df[df['genre'] == 'Adventure']\n",
    "    rand_adventureM = adventureM['title'].sample(n=5)\n",
    "\n",
    "    return [rand_actionM, rand_horrorM, rand_fantasyM, rand_westernM, rand_adventureM]\n",
    "\n",
    "\n",
    "def outputStatistics(train, valid, test):\n",
    "    # Part 1 - Amount of Movies in each genre and split\n",
    "    print(\"Amount of Movies in each genre: \")\n",
    "    \n",
    "    # call function that calculates amount of movies per genre (called for each split). List is returned for every split\n",
    "    movieCountTrain= countMoviesByGenre(train)\n",
    "    movieCountValid = countMoviesByGenre(valid)\n",
    "    movieCountTest = countMoviesByGenre(test)\n",
    "    \n",
    "    # Lists containing the amount of movies per Genre are appended into a list of lists (used to make the dataframe)\n",
    "    stats = []\n",
    "    stats.append(movieCountTrain)\n",
    "    stats.append(movieCountValid)\n",
    "    stats.append(movieCountTest)\n",
    "\n",
    "    # Dataframe containing amount of movies in each genre and split is created and outputted\n",
    "    stats_df = pd.DataFrame(stats, columns=['Action', 'Horror', 'Fantasy', 'Western', 'Adventure'])\n",
    "    stats_df.index = ['Training Split', 'Validation Split', 'Testing Split']\n",
    "    print(stats_df)\n",
    "    \n",
    "\n",
    "\n",
    "    # Part 2 - 5 Examples of movie titles from each genre and split\n",
    "\n",
    "    print(\"\\n5 Examples of Movie titles from each genre:\")\n",
    "\n",
    "    movieExTrain = examplesByGenre(train)\n",
    "    movieExValid = examplesByGenre(valid)\n",
    "    movieExTest = examplesByGenre(test)\n",
    "\n",
    "\n",
    "    # FIND A WAY TO OUTPUT TABLE\n",
    "\n",
    "    # examples = []\n",
    "    # examples.append(movieExTrain)\n",
    "    # examples.append(movieExValid)\n",
    "    # examples.append(movieExTest)\n",
    "    \n",
    "    # examples_df = pd.DataFrame(examples, columns=['Action', 'Horror', 'Fantasy', 'Western', 'Adventure'])\n",
    "    # examples_df.index = ['Training Split', 'Validation Split', 'Testing Split']\n",
    "    # print(examples_df)\n",
    "\n",
    "\n",
    "    \n",
    "\n",
    "outputStatistics(train, valid, test)\n",
    "# outputStatistics(valid)\n",
    "# outputStatistics(test)\n",
    "\n",
    "\n",
    "\n",
    "\n"
   ]
  },
  {
   "cell_type": "markdown",
   "id": "8c1240be",
   "metadata": {},
   "source": [
    "## Title classification (25%)\n",
    "\n",
    "Your first task is to prove that a neural network can identify the genre of a movie based on its title.\n",
    "\n",
    "You will note that many titles are just a single word or two words long so you need to work at the character level instead of the word level, that is, a token would be a single character, including punctuation marks and spaces.\n",
    "You must also lowercase the titles.\n",
    "Preprocess the data sets, create a neural network, and train it to classify the movie titles into their genre.\n",
    "Plot a graph of the **accuracy** of the model on the train and validation sets after each epoch."
   ]
  },
  {
   "cell_type": "code",
   "execution_count": null,
   "id": "d7522adb",
   "metadata": {},
   "outputs": [],
   "source": []
  },
  {
   "cell_type": "markdown",
   "id": "f53265d7",
   "metadata": {},
   "source": [
    "Measure the F1 score performance of the model when applied on the test set.\n",
    "Also plot a confusion matrix showing how often each genre is mistaken as another genre."
   ]
  },
  {
   "cell_type": "code",
   "execution_count": null,
   "id": "e3e9f69c",
   "metadata": {},
   "outputs": [],
   "source": []
  },
  {
   "cell_type": "markdown",
   "id": "885c811f",
   "metadata": {},
   "source": [
    "## Title generation (25%)\n",
    "\n",
    "Now that you've proven that titles and genre are related, make a model that can generate a title given a genre.\n",
    "\n",
    "Again, you need to generate tokens at the character level instead of the word level and the titles must be lowercased.\n",
    "Preprocess the data sets, create a neural network, and train it to generate the movie titles given their genre.\n",
    "Plot a graph of the **perplexity** of the model on the train and validation sets after each epoch."
   ]
  },
  {
   "cell_type": "code",
   "execution_count": null,
   "id": "89209908",
   "metadata": {},
   "outputs": [],
   "source": []
  },
  {
   "cell_type": "markdown",
   "id": "da86299f",
   "metadata": {},
   "source": [
    "Generate 3 titles for every genre.\n",
    "Make sure that the titles are not all the same."
   ]
  },
  {
   "cell_type": "code",
   "execution_count": null,
   "id": "f2aa6465",
   "metadata": {},
   "outputs": [],
   "source": []
  },
  {
   "cell_type": "markdown",
   "id": "cc97665b",
   "metadata": {},
   "source": [
    "## Language models as classifiers (30%)\n",
    "\n",
    "It occurs to you that the movie title generator can also be used as a classifier by doing the following:\n",
    "\n",
    "* Let title $t$ be the title that you want to classify.\n",
    "* For every genre $g$,\n",
    "    * Use the generator as a language model to get the probability of $t$ (the whole title) using genre $g$.\n",
    "* Pick the genre that makes the language model give the largest probability.\n",
    "\n",
    "The producer is thrilled to not need two separate models and now you have to implement this.\n",
    "**Use the preprocessed test set from the previous task** in order to find the genre that makes the language model give the largest probability.\n",
    "There is no need to plot anything here."
   ]
  },
  {
   "cell_type": "code",
   "execution_count": null,
   "id": "44ba8fd6",
   "metadata": {},
   "outputs": [],
   "source": []
  },
  {
   "cell_type": "markdown",
   "id": "3841496d",
   "metadata": {},
   "source": [
    "Just like in the classification task, measure the F1 score and plot the confusion matrix of this new classifier."
   ]
  },
  {
   "cell_type": "code",
   "execution_count": null,
   "id": "148060ad",
   "metadata": {},
   "outputs": [],
   "source": []
  },
  {
   "cell_type": "markdown",
   "id": "b6399514",
   "metadata": {},
   "source": [
    "Write a paragraph or psuedo code to describe what your code above does."
   ]
  },
  {
   "cell_type": "code",
   "execution_count": 96,
   "id": "f33c9a9e",
   "metadata": {},
   "outputs": [
    {
     "data": {
      "text/plain": [
       "'\\n\\n'"
      ]
     },
     "execution_count": 96,
     "metadata": {},
     "output_type": "execute_result"
    }
   ],
   "source": [
    "'''\n",
    "\n",
    "'''"
   ]
  },
  {
   "cell_type": "markdown",
   "id": "0f5888e6",
   "metadata": {},
   "source": [
    "## Conclusion (10%)\n",
    "\n",
    "The producer's funders are asking for a report about this new technology they invested in.\n",
    "In 300 words, write your interpretation of the results together with what you think could make the model perform better."
   ]
  },
  {
   "cell_type": "code",
   "execution_count": 97,
   "id": "a3b0fa26",
   "metadata": {},
   "outputs": [
    {
     "data": {
      "text/plain": [
       "'\\n\\n'"
      ]
     },
     "execution_count": 97,
     "metadata": {},
     "output_type": "execute_result"
    }
   ],
   "source": [
    "'''\n",
    "\n",
    "'''"
   ]
  }
 ],
 "metadata": {
  "kernelspec": {
   "display_name": "Python 3",
   "language": "python",
   "name": "python3"
  },
  "language_info": {
   "codemirror_mode": {
    "name": "ipython",
    "version": 3
   },
   "file_extension": ".py",
   "mimetype": "text/x-python",
   "name": "python",
   "nbconvert_exporter": "python",
   "pygments_lexer": "ipython3",
   "version": "3.10.0"
  },
  "vscode": {
   "interpreter": {
    "hash": "3bd13bc16400e16874b7ce28af58a129343287e94248a182c1f06fbb6b76ef8e"
   }
  }
 },
 "nbformat": 4,
 "nbformat_minor": 5
}
